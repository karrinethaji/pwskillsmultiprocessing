{
 "cells": [
  {
   "cell_type": "markdown",
   "id": "0c7e068a-8d0f-4f94-ad10-4e1eaf19598c",
   "metadata": {},
   "source": [
    "### Assignment on MultiProcessing"
   ]
  },
  {
   "cell_type": "markdown",
   "id": "0542d8cb-bcf3-4aad-9d23-7adfff92db78",
   "metadata": {},
   "source": [
    "##### Q1. What is multiprocessing in python? Why is it useful?"
   ]
  },
  {
   "cell_type": "markdown",
   "id": "fc90e618-22be-4d04-bb29-73de64ca93c3",
   "metadata": {},
   "source": [
    "Every Python program is a process and has one thread called the main thread used to execute your program instructions. Each process is, in fact, one instance of the Python interpreter that executes Python instructions (Python byte-code), which is a slightly lower level than the code you type into your Python program.\n",
    "\n",
    "Sometimes we may need to create new processes to run additional tasks concurrently.\n",
    "\n",
    "Python provides real system-level processes via the Process class in the multiprocessing module.\n",
    "\n",
    "In the multiprocessing, the task has been shared among the multiple processors to reduce the burden on each processor to complete the specific task and finally the output is aggregated from the v\n",
    "\n",
    "Multiprocessing refers to the ability of a system to support more than one processor at the same time. Applications in a multiprocessing system are broken to smaller routines that run independently. The operating system allocates these threads to the processors improving performance of the system.\n",
    "\n",
    "A multiprocessing system can have:\n",
    "\n",
    "multiprocessor, i.e. a computer with more than one central processor.\n",
    "multi-core processor, i.e. a single computing component with two or more independent actual processing units (called “cores”)."
   ]
  },
  {
   "cell_type": "markdown",
   "id": "5e464028-f9dd-4bb0-93e4-ccc3241a4275",
   "metadata": {},
   "source": [
    "##### Q2. What are the differences between multiprocessing and multithreading?"
   ]
  },
  {
   "cell_type": "markdown",
   "id": "ed18013b-f2a5-49a4-948a-77a87b7ea514",
   "metadata": {},
   "source": [
    "In multiprocessing, the task has been shared by multiple processors to improve the performance of a system and the output will be aggregated from all the processors\n",
    "\n",
    "In multithreading, the multiple tasks has been run within a single processor by using the threads.\n",
    "\n",
    "A thread is an entity within a process that can be scheduled for execution. Also, it is the smallest unit of processing that can be performed in an OS (Operating System). In simple words, a thread is a sequence of such instructions within a program that can be executed independently of other code. For simplicity, you can assume that a thread is simply a subset of a process!"
   ]
  },
  {
   "cell_type": "markdown",
   "id": "0d9e32fe-434c-495b-a5b8-723e968daf76",
   "metadata": {},
   "source": [
    "##### Q3. Write a python code to create a process using the multiprocessing module."
   ]
  },
  {
   "cell_type": "code",
   "execution_count": 16,
   "id": "51395c8a-bd46-4d34-9877-73dcdc9c9ff7",
   "metadata": {},
   "outputs": [
    {
     "name": "stdout",
     "output_type": "stream",
     "text": [
      "Calculating the squares of a given number ....\n",
      "The sqaure of 11 is 121 \n",
      "\n",
      "Calculating the cubes of a given number ...The sqaure of 22 is 484 \n",
      "\n",
      "\n",
      "The cube of 3 is 27 \n",
      "The sqaure of 33 is 1089 \n",
      "\n",
      "\n",
      "The cube of 5 is 125 \n",
      "The sqaure of 44 is 1936 \n",
      "\n",
      "\n",
      "The cube of 4 is 64 \n",
      "\n",
      "The cube of 2 is 8 \n",
      "\n",
      "Time taken to execute the program: 0.026784658432006836\n"
     ]
    }
   ],
   "source": [
    "import multiprocessing # importing the multiprocessing module\n",
    "import time\n",
    "\n",
    "def squares(l):\n",
    "    print(\"Calculating the squares of a given number ....\")\n",
    "    for i in l:\n",
    "        print(f\"The sqaure of {i} is {i**2} \\n\")\n",
    "def cubes(l):\n",
    "    print(\"Calculating the cubes of a given number ...\")\n",
    "    for j in l:\n",
    "        print(f\"The cube of {j} is {j**3} \\n\")\n",
    "if __name__==\"__main__\":\n",
    "    start=time.time()\n",
    "    #process to execute the squares function\n",
    "    process1=multiprocessing.Process(target=squares,args=([11,22,33,44],),name=\"process1\")\n",
    "    #process to execute the cubes function\n",
    "    process2=multiprocessing.Process(target=cubes,args=([3,5,4,2],),name=\"process1\")\n",
    "\n",
    "    process1.start() # process1 started\n",
    "    process2.start() # process2 started\n",
    "\n",
    "    process1.join() # wait until process 1 is finished\n",
    "    process2.join() # wait until process 2 is finished\n",
    "    print(\"Time taken to execute the program:\", time.time()-start)"
   ]
  },
  {
   "cell_type": "markdown",
   "id": "98f037b9-7186-405b-a393-53dd8f3066b9",
   "metadata": {},
   "source": [
    "#### Q4. What is a multiprocessing pool in python? Why is it used?"
   ]
  },
  {
   "cell_type": "markdown",
   "id": "49220423-0e06-4be9-b5b8-6848a39ba2c4",
   "metadata": {},
   "source": [
    "A process pool is a programming pattern for automatically managing a pool of worker processes.\n",
    "\n",
    "The pool is responsible for a fixed number of processes.\n",
    "\n",
    "It controls when they are created, such as when they are needed.\n",
    "It also controls what they should do when they are not being used, such as making them wait without consuming computational resources.\n",
    "The pool can provide a generic interface for executing ad hoc tasks with a variable number of arguments, much like the target property on the Process object, but does not require that we choose a process to run the task, start the process, or wait for the task to complete.\n",
    "\n",
    "Python provides a process pool via the multiprocessing.Pool class.\n",
    "\n",
    "There are four main steps in the life-cycle of using the multiprocessing.Pool class, they are: create, submit, wait, and shutdown.\n",
    "\n",
    "Create: Create the process pool by calling the constructor multiprocessing.Pool().\n",
    "Submit: Submit tasks synchronously or asynchronously.\n",
    "2a. Submit Tasks Synchronously\n",
    "2b. Submit Tasks Asynchronously\n",
    "Wait: Wait and get results as tasks complete (optional).\n",
    "3a. Wait on AsyncResult objects to Complete\n",
    "3b. Wait on AsyncResult objects for Result\n",
    "Shutdown: Shutdown the process pool by calling shutdown().\n",
    "4a. Shutdown Automatically with the Context Manager"
   ]
  },
  {
   "cell_type": "markdown",
   "id": "b82df620-a6b2-4f2a-9632-89e6c3d75752",
   "metadata": {},
   "source": [
    "**Step-1: Creating a processing tool**\n",
    "\n",
    "First, a multiprocessing.Pool instance must be created.\n",
    "\n",
    "When an instance of a multiprocessing.Pool is created it may be configured.\n",
    "\n",
    "The process pool can be configured by specifying arguments to the multiprocessing.Pool class constructor.\n",
    "\n",
    "The arguments to the constructor are as follows:\n",
    "\n",
    "processes: Maximum number of worker processes to use in the pool.\n",
    "\n",
    "initializer: Function executed after each worker process is created.\n",
    "\n",
    "initargs: Arguments to the worker process initialization function.\n",
    "\n",
    "maxtasksperchild: Limit the maximum number of tasks executed by each worker process.\n",
    "\n",
    "context: Configure the multiprocessing context such as the process start method.\n",
    "\n",
    "Perhaps the most important argument is “processes” that specifies the number of worker child processes in the process pool.\n",
    "\n",
    "By default the multiprocessing.Pool class constructor does not take any arguments."
   ]
  },
  {
   "cell_type": "code",
   "execution_count": 25,
   "id": "93608066-6fc0-4123-a102-d0e44331f4be",
   "metadata": {},
   "outputs": [
    {
     "name": "stdout",
     "output_type": "stream",
     "text": [
      "[1000, 1331, 1728, 125, 64, 27]\n"
     ]
    }
   ],
   "source": [
    "# program to illustrate the pooling in multiprocessing\n",
    "\n",
    "def cube(n):\n",
    "    return n**3\n",
    "if __name__==\"__main__\":\n",
    "    with multiprocessing.Pool(processes=10) as pool: # Here it will allocate the 10 child processors to execute the task\n",
    "        output= pool.map(cube,[10,11,12,5,4,3]) \n",
    "        print(output)"
   ]
  },
  {
   "cell_type": "markdown",
   "id": "066a04d0-8ce8-4c0a-8712-f07f042504a6",
   "metadata": {},
   "source": [
    "**Step-2: Submit Tasks to the Process Pool**\n",
    "\n",
    "There are two main approaches for submitting tasks to the process pool, they are:\n",
    "\n",
    "1. Issue tasks synchronously.\n",
    "\n",
    "2. Issue tasks asynchronously.\n"
   ]
  },
  {
   "cell_type": "markdown",
   "id": "b7d9e713-9396-4171-984c-51fddc6cfcee",
   "metadata": {},
   "source": [
    "**1.Issue tasks synchronously:**\n",
    "\n",
    "Issuing tasks synchronously means that the caller will block until the issued task or tasks have completed.\n",
    "\n",
    "Blocking calls to the process pool include apply(), map(), and starmap().\n",
    "\n",
    "We can issue one-off tasks to the process pool using the apply() function.\n",
    "\n",
    "The apply() function takes the name of the function to execute by a worker process. The call will block until the function is executed by a worker process, after which time it will return."
   ]
  },
  {
   "cell_type": "markdown",
   "id": "2010e2a7-00f3-495c-976c-4eba3fbc3d2a",
   "metadata": {},
   "source": [
    "For example:\n",
    "...\n",
    "\n",
    "#issue a task to the process pool\n",
    "\n",
    "**pool.apply(task)**\n",
    "\n",
    "The process pool provides a parallel version of the built-in map() function for issuing tasks.\n",
    "\n",
    "For example:\n",
    "...\n",
    "\n",
    "#iterates return values from the issued tasks\n",
    "\n",
    "**for result in map(task, items):**\n",
    "#...\n",
    "\n",
    "The starmap() function is the same as the parallel version of the map() function, except that it allows each function call to take multiple arguments. Specifically, it takes an iterable where each item is an iterable of arguments for the target function.\n",
    "\n",
    "For example:\n",
    "\n",
    "...\n",
    "\n",
    "#iterates return values from the issued tasks\n",
    "\n",
    "**for result in starmap(task, items):**\n",
    "\n",
    "#...\n",
    "We will look more closely at how to issue tasks in later sections."
   ]
  },
  {
   "cell_type": "markdown",
   "id": "6d9c8835-b6f1-4f2a-89fd-a59e9663a9aa",
   "metadata": {},
   "source": [
    "**2. Issue tasks asynchronously.**\n",
    "\n",
    "Issuing tasks asynchronously to the process pool means that the caller will not block, allowing the caller to continue on with other work while the tasks are executing.\n",
    "\n",
    "The non-blocking calls to issue tasks to the process pool return immediately and provide a hook or mechanism to check the status of the tasks and get the results later. The caller can issue tasks and carry on with the program.\n",
    "\n",
    "Non-blocking calls to the process pool include apply_async(), map_async(), and starmap_async().\n",
    "\n",
    "The imap() and imap_unordered() are interesting. They return immediately, so they are technically non-blocking calls. The iterable that is returned will yield return values as tasks are completed. This means traversing the iterable will block.\n",
    "\n",
    "The apply_async(), map_async(), and starmap_async() functions are asynchronous versions of the apply(), map(), and starmap() functions described above.\n",
    "\n",
    "They all return an AsyncResult object immediately that provides a handle on the issued task or tasks.\n",
    "\n",
    "For example:\n",
    "\n",
    "...\n",
    "\n",
    "#issue tasks to the process pool asynchronously\n",
    "\n",
    "result = map_async(task, items)\n",
    "\n",
    "The imap() function takes the name of a target function and an iterable like the map() function.\n",
    "\n",
    "The difference is that the imap() function is more lazy in two ways:\n",
    "\n",
    "imap() issues multiple tasks to the process pool one-by-one, instead of all at once like map().\n",
    "\n",
    "imap() returns an iterable that yields results one-by-one as tasks are completed, rather than one-by-one after all tasks have completed like map().\n",
    "\n",
    "For example:\n",
    "\n",
    "...\n",
    "#iterates results as tasks are completed in order\n",
    "\n",
    "**for result in imap(task, items):**\n",
    "    # ...\n",
    "The imap_unordered() is the same as imap(), except that the returned iterable will yield return values in the order that tasks are completed (e.g. out of order).\n",
    "\n",
    "For example:\n",
    "\n",
    "...\n",
    "#iterates results as tasks are completed, in the order they are completed\n",
    "\n",
    "**for result in imap_unordered(task, items):**\n",
    "    # ...\n",
    "You can learn more about how to issue tasks to the process pool in the tutorial:\n",
    "\n",
    "Multiprocessing Pool apply() vs map() vs imap() vs starmap()\n",
    "Now that we know how to issue tasks to the process pool, let’s take a closer look at waiting for tasks to complete or getting results."
   ]
  },
  {
   "cell_type": "markdown",
   "id": "4dce2253-a902-4168-876e-38f1f3575938",
   "metadata": {},
   "source": [
    "**Step3: Wait for Tasks to Complete (Optional) Ignored as of now**"
   ]
  },
  {
   "cell_type": "markdown",
   "id": "4ffb4012-5e4b-4b5f-90eb-0858b364b0d8",
   "metadata": {},
   "source": [
    "**Step4: Shutdown the Process Pool**"
   ]
  },
  {
   "cell_type": "markdown",
   "id": "92909d20-22ab-4f0c-bf6e-e97f69a96790",
   "metadata": {},
   "source": [
    "We can shutdown the pool using the below syntax's:\n",
    "\n",
    "The multiprocessing.Pool can be closed once we have no further tasks to issue.\n",
    "\n",
    "There are two ways to shutdown the process pool.\n",
    "\n",
    "They are:\n",
    "\n",
    "Call Pool.close().\n",
    "\n",
    "Call Pool.terminate().\n",
    "\n",
    "The close() function will return immediately and the pool will not take any further tasks."
   ]
  },
  {
   "cell_type": "markdown",
   "id": "41108c5b-662d-4bde-b1bd-5da83754cc74",
   "metadata": {},
   "source": [
    "For example:\n",
    "\n",
    "...\n",
    "#close the process pool\n",
    "\n",
    "**pool.close()**\n",
    "\n",
    "Alternatively, we may want to forcefully terminate all child worker processes, regardless of whether they are executing tasks or not.\n",
    "\n",
    "This can be achieved via the terminate() function.\n",
    "\n",
    "For example:\n",
    "\n",
    "...\n",
    "\n",
    "#forcefully close all worker processes\n",
    "\n",
    "**pool.terminate()**\n",
    "\n",
    "We may want to then wait for all tasks in the pool to finish.\n",
    "\n",
    "This can be achieved by calling the join() function on the pool.\n",
    "\n",
    "For example:\n",
    "\n",
    "...\n",
    "#wait for all issued tasks to complete\n",
    "\n",
    "**pool.join()**"
   ]
  },
  {
   "cell_type": "markdown",
   "id": "19bb5609-89cf-417f-b466-40a4cc49af7a",
   "metadata": {},
   "source": [
    "We have an alternate way to shutdown the pool using the context manager as well"
   ]
  },
  {
   "cell_type": "markdown",
   "id": "40f2cdee-f776-4867-80a5-4fff4503b47a",
   "metadata": {
    "tags": []
   },
   "source": [
    "A context manager is an interface on Python objects for defining a new run context.\n",
    "\n",
    "Python provides a context manager interface on the process pool.\n",
    "\n",
    "This achieves a similar outcome to using a try-except-finally pattern, with less code.\n",
    "\n",
    "Specifically, it is more like a try-finally pattern, where any exception handling must be added and occur within the code block itself.\n",
    "\n",
    "For example:\n",
    "\n",
    "...\n",
    "\n",
    "#create and configure the process pool\n",
    "\n",
    "with multiprocessing.Pool() as pool:\n",
    "\n",
    "    #issue tasks to the pool\n",
    "    #...\n",
    "    \n",
    "#close the pool automatically\n",
    "\n",
    "There is an important difference with the try-finally block.\n",
    "\n",
    "If we look at the source code for the multiprocessing.Pool class, we can see that the __exit__() method calls the terminate() method on the process pool when exiting the context manager block.\n",
    "\n",
    "This means that the pool is forcefully closed once the context manager block is exited. It ensures that the resources of the process pool are released before continuing on, but does not ensure that tasks that have already been issued are completed first."
   ]
  },
  {
   "cell_type": "markdown",
   "id": "5e18bd23-1af8-486a-9c04-6901016253dd",
   "metadata": {},
   "source": [
    "#### Q5. How can we create a pool of worker processes in python using the multiprocessing module?"
   ]
  },
  {
   "cell_type": "code",
   "execution_count": 27,
   "id": "9ef96a9f-a845-4dbe-88e8-b6175c7f911d",
   "metadata": {},
   "outputs": [
    {
     "name": "stdout",
     "output_type": "stream",
     "text": [
      "[1000, 1331, 1728, 125, 64, 27]\n"
     ]
    }
   ],
   "source": [
    "\"\"\" we can use the pool in the multithreading using the module Pool inside the multiprocessing package\n",
    "    \n",
    "    Ex:-\n",
    "    \n",
    "    multiprocessing.Pool(processes=10,...)\n",
    "\"\"\"\n",
    "\n",
    "# program to illustrate the pooling in multiprocessing\n",
    "\n",
    "def cube(n):\n",
    "    return n**3\n",
    "if __name__==\"__main__\":\n",
    "    with multiprocessing.Pool(processes=10) as pool: # Here it will allocate the 10 child processors to execute the task\n",
    "        output= pool.map(cube,[10,11,12,5,4,3]) \n",
    "        print(output)"
   ]
  },
  {
   "cell_type": "markdown",
   "id": "884d4a8d-46d1-4a55-bd50-e0880fc3b929",
   "metadata": {},
   "source": [
    "##### Q6. Write a python program to create 4 processes, each process should print a different number using the multiprocessing module in python."
   ]
  },
  {
   "cell_type": "code",
   "execution_count": 35,
   "id": "1075e9ef-5518-4b37-b698-dc02df60961d",
   "metadata": {},
   "outputs": [
    {
     "name": "stdout",
     "output_type": "stream",
     "text": [
      "121\n",
      "1728\n",
      "10000\n",
      "371293\n",
      "Time taken to execute the program: 0.03391408920288086\n"
     ]
    }
   ],
   "source": [
    "import multiprocessing # importing the multiprocessing module\n",
    "import time\n",
    "\n",
    "def squares(l):\n",
    "    print(l**2)\n",
    "def cubes(l):\n",
    "    print(l**3)\n",
    "def fun3(l):\n",
    "    print(l**4)\n",
    "def fun4(l):\n",
    "    print(l**5)\n",
    "if __name__==\"__main__\":\n",
    "    start=time.time()\n",
    "    #process to execute the squares function\n",
    "    process1=multiprocessing.Process(target=squares,args=(11,))\n",
    "    #process to execute the cubes function\n",
    "    process2=multiprocessing.Process(target=cubes,args=(12,))\n",
    "    process3=multiprocessing.Process(target=fun3,args=(10,))\n",
    "    process4=multiprocessing.Process(target=fun4,args=(13,))\n",
    "    \n",
    "\n",
    "    process1.start() # process1 started\n",
    "    process2.start() # process2 started\n",
    "    process3.start()\n",
    "    process4.start()\n",
    "\n",
    "    process1.join() # wait until process 1 is finished\n",
    "    process2.join() # wait until process 2 is finished\n",
    "    process3.join()\n",
    "    process4.join()\n",
    "    print(\"Time taken to execute the program:\", time.time()-start)"
   ]
  },
  {
   "cell_type": "markdown",
   "id": "16f65304-ed48-495a-8bd1-8e7c4aa7aeaa",
   "metadata": {},
   "source": [
    "Reference: https://superfastpython.com/multiprocessing-pool-python/#Step_1_Create_the_Process_Pool"
   ]
  }
 ],
 "metadata": {
  "kernelspec": {
   "display_name": "Python 3 (ipykernel)",
   "language": "python",
   "name": "python3"
  },
  "language_info": {
   "codemirror_mode": {
    "name": "ipython",
    "version": 3
   },
   "file_extension": ".py",
   "mimetype": "text/x-python",
   "name": "python",
   "nbconvert_exporter": "python",
   "pygments_lexer": "ipython3",
   "version": "3.10.8"
  }
 },
 "nbformat": 4,
 "nbformat_minor": 5
}
